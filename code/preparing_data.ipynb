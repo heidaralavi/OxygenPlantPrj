{
 "cells": [
  {
   "cell_type": "markdown",
   "metadata": {},
   "source": [
    "<div style=\"font-size: 14;color:black;font-size:25PX;font-family: arial;\" align =\"rigth\" dir=\"rtl\">\n",
    "<b>\n",
    "1- فراخوان توابع مورد نیاز\n",
    "</b>\n",
    "</div>"
   ]
  },
  {
   "cell_type": "code",
   "execution_count": 1,
   "metadata": {},
   "outputs": [],
   "source": [
    "import os\n",
    "import pandas as pd\n",
    "#working_dir = os.getcwd()\n",
    "working_dir ='..'  # Use on Jupyter Notebook"
   ]
  },
  {
   "cell_type": "markdown",
   "metadata": {},
   "source": [
    "<div style=\"font-size: 14;color:black;font-size:25PX;font-family: arial;\" align =\"rigth\" dir=\"rtl\">\n",
    "<b>\n",
    "2- خواندن دیتاها از فایل تکست خروجی نرم افزار ای با\n",
    "</b>\n",
    "</div>"
   ]
  },
  {
   "cell_type": "code",
   "execution_count": 2,
   "metadata": {},
   "outputs": [],
   "source": [
    "df = pd.read_csv(f\"{working_dir}/data/Oxygen_Plant_24Days.txt\", delimiter= '\\t', index_col=False )\n",
    "#print(df.shape)\n",
    "df.columns = df.iloc[0,:].to_list()\n",
    "df.drop(index= [0,1],inplace=True)\n",
    "df.replace({\"1.#INF\":None},inplace=True)"
   ]
  },
  {
   "cell_type": "markdown",
   "metadata": {},
   "source": [
    "<div style=\"font-size: 14;color:black;font-size:25PX;font-family: arial;\" align =\"rigth\" dir=\"rtl\">\n",
    "<b>\n",
    "3 - مشاهده متغیرهای بدون مقدار\n",
    "</b>\n",
    "</div>"
   ]
  },
  {
   "cell_type": "code",
   "execution_count": 3,
   "metadata": {},
   "outputs": [
    {
     "name": "stdout",
     "output_type": "stream",
     "text": [
      "(2, 63)\n",
      "                            time AI1 Product gaseous (liquid) oxygen purity  \\\n",
      "2594  24.09.2024 18:42:48.040000                                       None   \n",
      "4610  01.10.2024 18:42:48.040000                                       None   \n",
      "\n",
      "     AI4 Oxygen content in waste nitrogen  \\\n",
      "2594                                 None   \n",
      "4610                                 None   \n",
      "\n",
      "     Analys Argon (AI7) Product argon purity (O2 content)  \\\n",
      "2594                                               None     \n",
      "4610                                               None     \n",
      "\n",
      "     AI12 Carbon dioxide in plant air content (AI12)  \\\n",
      "2594                                            None   \n",
      "4610                                            None   \n",
      "\n",
      "     AI2BA Oxygen content in gaseous nitrogen  \\\n",
      "2594                                     None   \n",
      "4610                                     None   \n",
      "\n",
      "     PI540 Prepurifier inlet pressure TI530 Prepurifier inlet temperature  \\\n",
      "2594                             None                                None   \n",
      "4610                             None                                None   \n",
      "\n",
      "     FI580 Vessel V5000B pressure PI580 Vessel V5000B pressure  ...  \\\n",
      "2594                         None                         None  ...   \n",
      "4610                         None                         None  ...   \n",
      "\n",
      "     TE005 Oil reservoir temperature (C7300) PT005 #2 inlet pressure (C7300)  \\\n",
      "2594                                    None                            None   \n",
      "4610                                    None                            None   \n",
      "\n",
      "     PT003 C/W inlet pressure (C7300) FIC815 - PV Cooling water flow  \\\n",
      "2594                             None                           None   \n",
      "4610                             None                           None   \n",
      "\n",
      "     FIC600A - PV Product oxygen flow  \\\n",
      "2594                             None   \n",
      "4610                             None   \n",
      "\n",
      "     FIC701 - PV Gaseous nitrogen flow to cooling tower flow  \\\n",
      "2594                                               None        \n",
      "4610                                               None        \n",
      "\n",
      "     FIC772 -PV Waste nitrogen flow to cooling tower flow  \\\n",
      "2594                                               None     \n",
      "4610                                               None     \n",
      "\n",
      "     SIC401A - PV Air turbine/booster T/C2000A speed  \\\n",
      "2594                                            None   \n",
      "4610                                            None   \n",
      "\n",
      "     SIC401B - PV Air turbine/booster T/C2000B speed  \\\n",
      "2594                                            None   \n",
      "4610                                            None   \n",
      "\n",
      "     HY582B Air booster C2000A by-pass valve HV582B: solenoid HY582B OFF/ON command  \n",
      "2594                                                  1                              \n",
      "4610                                                  1                              \n",
      "\n",
      "[2 rows x 63 columns]\n"
     ]
    }
   ],
   "source": [
    "print(df[df.isna().any(axis=1)].shape)\n",
    "print(df[df.isna().any(axis=1)])\n"
   ]
  },
  {
   "cell_type": "markdown",
   "metadata": {},
   "source": [
    "<div style=\"font-size: 14;color:black;font-size:25PX;font-family: arial;\" align =\"rigth\" dir=\"rtl\">\n",
    "<b>\n",
    "4- اصلاح مقادیر و یا حذف آنها از دیتاست\n",
    "</b>\n",
    "</div>"
   ]
  },
  {
   "cell_type": "code",
   "execution_count": 4,
   "metadata": {},
   "outputs": [
    {
     "name": "stdout",
     "output_type": "stream",
     "text": [
      "(7198, 63)\n"
     ]
    }
   ],
   "source": [
    "#df.fillna(method='ffill',inplace=True)\n",
    "df.dropna(inplace=True)\n",
    "df.reset_index(inplace=True,drop=True)\n",
    "print(df.shape)\n"
   ]
  },
  {
   "cell_type": "markdown",
   "metadata": {},
   "source": [
    "<div style=\"font-size: 14;color:black;font-size:25PX;font-family: arial;\" align =\"rigth\" dir=\"rtl\">\n",
    "<b>\n",
    "5- روند کردن زمان تا ثانیه \n",
    "</b>\n",
    "</div>"
   ]
  },
  {
   "cell_type": "code",
   "execution_count": 5,
   "metadata": {},
   "outputs": [],
   "source": [
    "df['time']=df['time'].str[:-7]\n",
    "\n"
   ]
  },
  {
   "cell_type": "markdown",
   "metadata": {},
   "source": [
    "<div style=\"font-size: 14;color:black;font-size:25PX;font-family: arial;\" align =\"rigth\" dir=\"rtl\">\n",
    "<b>\n",
    "6- اصلاح فرمت داده ها\n",
    "</b>\n",
    "</div>"
   ]
  },
  {
   "cell_type": "code",
   "execution_count": 6,
   "metadata": {},
   "outputs": [
    {
     "name": "stdout",
     "output_type": "stream",
     "text": [
      "(7198, 63)\n",
      "<class 'pandas.core.frame.DataFrame'>\n",
      "RangeIndex: 7198 entries, 0 to 7197\n",
      "Data columns (total 63 columns):\n",
      " #   Column                                                                          Non-Null Count  Dtype  \n",
      "---  ------                                                                          --------------  -----  \n",
      " 0   time                                                                            7198 non-null   object \n",
      " 1   AI1 Product gaseous (liquid) oxygen purity                                      7198 non-null   float64\n",
      " 2   AI4 Oxygen content in waste nitrogen                                            7198 non-null   float64\n",
      " 3   Analys Argon (AI7) Product argon purity (O2 content)                            7198 non-null   float64\n",
      " 4   AI12 Carbon dioxide in plant air content (AI12)                                 7198 non-null   float64\n",
      " 5   AI2BA Oxygen content in gaseous nitrogen                                        7198 non-null   float64\n",
      " 6   PI540 Prepurifier inlet pressure                                                7198 non-null   float64\n",
      " 7   TI530 Prepurifier inlet temperature                                             7198 non-null   float64\n",
      " 8   FI580 Vessel V5000B pressure                                                    7198 non-null   float64\n",
      " 9   PI580 Vessel V5000B pressure                                                    7198 non-null   float64\n",
      " 10  TI580 Vessel V5000B pressure                                                    7198 non-null   float64\n",
      " 11  TI204A Air turbine T2000A inlet pressure                                        7198 non-null   float64\n",
      " 12  TI210A Air turbine T2000A outlet temperature                                    7198 non-null   float64\n",
      " 13  PI210 Air turbine/booster outlet pressure                                       7198 non-null   float64\n",
      " 14  TI204B Air turbine T2000A inlet temperature                                     7198 non-null   float64\n",
      " 15  TI210B Air turbine T2000A outlet temperature                                    7198 non-null   float64\n",
      " 16  TI404A Air booster/turbine T/C2000A oil temperature                             7198 non-null   float64\n",
      " 17  PI409A Air booster/turbine T/C2000A oil supply pressure                         7198 non-null   float64\n",
      " 18  PI402A Air booster C2000A outlet pressure                                       7198 non-null   float64\n",
      " 19  TI404B Air booster/turbine T/C2000B oil temperature                             7198 non-null   float64\n",
      " 20  PI409B Air booster/turbine T/C2000B oil supply pressure                         7198 non-null   float64\n",
      " 21  PI402B Air booster C2000B outlet pressure                                       7198 non-null   float64\n",
      " 22  PI60A Oxygen compressor C6100A delivery pressure                                7198 non-null   float64\n",
      " 23  PI61A Oxygen compressor C6100A oil pressure                                     7198 non-null   float64\n",
      " 24  TI70A Oxygen compressor C6100A oil cooler outlet temperature                    7198 non-null   float64\n",
      " 25  VI50A Oxygen compressor C6100A vibration                                        7198 non-null   float64\n",
      " 26  PI60B Oxygen compressor C6100B delivery pressure                                7198 non-null   float64\n",
      " 27  PI61B Oxygen compressor C6100B oil pressure                                     7198 non-null   float64\n",
      " 28  TI70B Oxygen compressor C6100B oil cooler outlet temperature                    7198 non-null   float64\n",
      " 29  VI50B Oxygen compressor C6100B vibration                                        7198 non-null   float64\n",
      " 30  PI60C Oxygen compressor C6100B delivery pressure                                7198 non-null   float64\n",
      " 31  PI61C Oxygen compressor C6100B oil pressure                                     7198 non-null   float64\n",
      " 32  TI70C Oxygen compressor C6100B oil cooler outlet temperature                    7198 non-null   float64\n",
      " 33  VI50C Oxygen compressor C6100B vibration                                        7198 non-null   float64\n",
      " 34  PT002  System pressure (C5000A)                                                 7198 non-null   float64\n",
      " 35  CT001 Motor current (C5000A)                                                    7198 non-null   float64\n",
      " 36  TE006 Oil supply temperature (C5000A)                                           7198 non-null   float64\n",
      " 37  PT003 C/W inlet pressure (C5000A)                                               7198 non-null   float64\n",
      " 38  TE004 C/W inlet temperature (C5000A)                                            7198 non-null   float64\n",
      " 39  PT002  System pressure (C5000B)                                                 7198 non-null   float64\n",
      " 40  CT001 Motor current (C5000B)                                                    7198 non-null   float64\n",
      " 41  TE006 Oil supply temperature (C5000B)                                           7198 non-null   float64\n",
      " 42  PT003 C/W inlet pressure (C5000B)                                               7198 non-null   float64\n",
      " 43  TE004 C/W inlet temperature (C5000B)                                            7198 non-null   float64\n",
      " 44  PT002  System pressure (C5000C)                                                 7198 non-null   float64\n",
      " 45  CT001 Motor current (C5000C)                                                    7198 non-null   float64\n",
      " 46  TE006 Oil supply temperature (C5000C)                                           7198 non-null   float64\n",
      " 47  PT003 C/W inlet pressure (C5000C)                                               7198 non-null   float64\n",
      " 48  TE004 C/W inlet temperature (C5000C)                                            7198 non-null   float64\n",
      " 49  PT001 Stage 3 discharge pressure (C7300)                                        7198 non-null   float64\n",
      " 50  PT004 Oil supply pressure (C7300)                                               7198 non-null   float64\n",
      " 51  CT001 Motor current (C7300)                                                     7198 non-null   float64\n",
      " 52  TE006 Oil supply temperature (C7300)                                            7198 non-null   float64\n",
      " 53  TE005 Oil reservoir temperature (C7300)                                         7198 non-null   float64\n",
      " 54  PT005 #2 inlet pressure (C7300)                                                 7198 non-null   float64\n",
      " 55  PT003 C/W inlet pressure (C7300)                                                7198 non-null   float64\n",
      " 56  FIC815 - PV Cooling water flow                                                  7198 non-null   float64\n",
      " 57  FIC600A - PV Product oxygen flow                                                7198 non-null   float64\n",
      " 58  FIC701 - PV Gaseous nitrogen flow to cooling tower flow                         7198 non-null   float64\n",
      " 59  FIC772 -PV Waste nitrogen flow to cooling tower flow                            7198 non-null   float64\n",
      " 60  SIC401A - PV Air turbine/booster T/C2000A speed                                 7198 non-null   float64\n",
      " 61  SIC401B - PV Air turbine/booster T/C2000B speed                                 7198 non-null   float64\n",
      " 62  HY582B Air booster C2000A by-pass valve HV582B: solenoid HY582B OFF/ON command  7198 non-null   float64\n",
      "dtypes: float64(62), object(1)\n",
      "memory usage: 3.5+ MB\n",
      "None\n"
     ]
    }
   ],
   "source": [
    "for item in [col_name for col_name in df.columns if col_name != \"time\"]:\n",
    "    df[item] = df[item].astype(float)\n",
    "print(df.shape)\n",
    "print(df.info())\n"
   ]
  },
  {
   "cell_type": "markdown",
   "metadata": {},
   "source": [
    "<div style=\"font-size: 14;color:black;font-size:25PX;font-family: arial;\" align =\"rigth\" dir=\"rtl\">\n",
    "<b>\n",
    "7 - ذخیره کردن داده های اصلاح شده در فایل سی اس وی\n",
    "</b>\n",
    "</div>"
   ]
  },
  {
   "cell_type": "code",
   "execution_count": 7,
   "metadata": {},
   "outputs": [],
   "source": [
    "df.to_csv(f\"{working_dir}/data/Oxygen_Plant_24Days.csv\",index=False)"
   ]
  }
 ],
 "metadata": {
  "kernelspec": {
   "display_name": "venv",
   "language": "python",
   "name": "python3"
  },
  "language_info": {
   "codemirror_mode": {
    "name": "ipython",
    "version": 3
   },
   "file_extension": ".py",
   "mimetype": "text/x-python",
   "name": "python",
   "nbconvert_exporter": "python",
   "pygments_lexer": "ipython3",
   "version": "3.10.12"
  }
 },
 "nbformat": 4,
 "nbformat_minor": 2
}
