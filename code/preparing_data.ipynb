{
 "cells": [
  {
   "cell_type": "code",
   "execution_count": 3,
   "metadata": {},
   "outputs": [
    {
     "name": "stdout",
     "output_type": "stream",
     "text": [
      "e:\\GITHUB\\OxygenPlantPrj\\code\n"
     ]
    }
   ],
   "source": [
    "import os\n",
    "import pandas as pd\n",
    "#working_dir = os.getcwd()\n",
    "working_dir ='..'  # Use on Jupyter Notebook\n",
    "print(os.getcwd())"
   ]
  },
  {
   "cell_type": "code",
   "execution_count": 71,
   "metadata": {},
   "outputs": [
    {
     "name": "stdout",
     "output_type": "stream",
     "text": [
      "(7202, 63)\n",
      "(7200, 63)\n",
      "<class 'pandas.core.frame.DataFrame'>\n",
      "RangeIndex: 7200 entries, 0 to 7199\n",
      "Data columns (total 63 columns):\n",
      " #   Column                                                                          Non-Null Count  Dtype  \n",
      "---  ------                                                                          --------------  -----  \n",
      " 0   time                                                                            7200 non-null   object \n",
      " 1   AI1 Product gaseous (liquid) oxygen purity                                      7200 non-null   float64\n",
      " 2   AI4 Oxygen content in waste nitrogen                                            7200 non-null   float64\n",
      " 3   Analys Argon (AI7) Product argon purity (O2 content)                            7200 non-null   float64\n",
      " 4   AI12 Carbon dioxide in plant air content (AI12)                                 7200 non-null   float64\n",
      " 5   AI2BA Oxygen content in gaseous nitrogen                                        7200 non-null   float64\n",
      " 6   PI540 Prepurifier inlet pressure                                                7200 non-null   float64\n",
      " 7   TI530 Prepurifier inlet temperature                                             7200 non-null   float64\n",
      " 8   FI580 Vessel V5000B pressure                                                    7200 non-null   float64\n",
      " 9   PI580 Vessel V5000B pressure                                                    7200 non-null   float64\n",
      " 10  TI580 Vessel V5000B pressure                                                    7200 non-null   float64\n",
      " 11  TI204A Air turbine T2000A inlet pressure                                        7200 non-null   float64\n",
      " 12  TI210A Air turbine T2000A outlet temperature                                    7200 non-null   float64\n",
      " 13  PI210 Air turbine/booster outlet pressure                                       7200 non-null   float64\n",
      " 14  TI204B Air turbine T2000A inlet temperature                                     7200 non-null   float64\n",
      " 15  TI210B Air turbine T2000A outlet temperature                                    7200 non-null   float64\n",
      " 16  TI404A Air booster/turbine T/C2000A oil temperature                             7200 non-null   float64\n",
      " 17  PI409A Air booster/turbine T/C2000A oil supply pressure                         7200 non-null   float64\n",
      " 18  PI402A Air booster C2000A outlet pressure                                       7200 non-null   float64\n",
      " 19  TI404B Air booster/turbine T/C2000B oil temperature                             7200 non-null   float64\n",
      " 20  PI409B Air booster/turbine T/C2000B oil supply pressure                         7200 non-null   float64\n",
      " 21  PI402B Air booster C2000B outlet pressure                                       7200 non-null   float64\n",
      " 22  PI60A Oxygen compressor C6100A delivery pressure                                7200 non-null   float64\n",
      " 23  PI61A Oxygen compressor C6100A oil pressure                                     7200 non-null   float64\n",
      " 24  TI70A Oxygen compressor C6100A oil cooler outlet temperature                    7200 non-null   float64\n",
      " 25  VI50A Oxygen compressor C6100A vibration                                        7200 non-null   float64\n",
      " 26  PI60B Oxygen compressor C6100B delivery pressure                                7200 non-null   float64\n",
      " 27  PI61B Oxygen compressor C6100B oil pressure                                     7200 non-null   float64\n",
      " 28  TI70B Oxygen compressor C6100B oil cooler outlet temperature                    7200 non-null   float64\n",
      " 29  VI50B Oxygen compressor C6100B vibration                                        7200 non-null   float64\n",
      " 30  PI60C Oxygen compressor C6100B delivery pressure                                7200 non-null   float64\n",
      " 31  PI61C Oxygen compressor C6100B oil pressure                                     7200 non-null   float64\n",
      " 32  TI70C Oxygen compressor C6100B oil cooler outlet temperature                    7200 non-null   float64\n",
      " 33  VI50C Oxygen compressor C6100B vibration                                        7200 non-null   float64\n",
      " 34  PT002  System pressure (C5000A)                                                 7200 non-null   float64\n",
      " 35  CT001 Motor current (C5000A)                                                    7200 non-null   float64\n",
      " 36  TE006 Oil supply temperature (C5000A)                                           7200 non-null   float64\n",
      " 37  PT003 C/W inlet pressure (C5000A)                                               7200 non-null   float64\n",
      " 38  TE004 C/W inlet temperature (C5000A)                                            7200 non-null   float64\n",
      " 39  PT002  System pressure (C5000B)                                                 7200 non-null   float64\n",
      " 40  CT001 Motor current (C5000B)                                                    7200 non-null   float64\n",
      " 41  TE006 Oil supply temperature (C5000B)                                           7200 non-null   float64\n",
      " 42  PT003 C/W inlet pressure (C5000B)                                               7200 non-null   float64\n",
      " 43  TE004 C/W inlet temperature (C5000B)                                            7200 non-null   float64\n",
      " 44  PT002  System pressure (C5000C)                                                 7200 non-null   float64\n",
      " 45  CT001 Motor current (C5000C)                                                    7200 non-null   float64\n",
      " 46  TE006 Oil supply temperature (C5000C)                                           7200 non-null   float64\n",
      " 47  PT003 C/W inlet pressure (C5000C)                                               7200 non-null   float64\n",
      " 48  TE004 C/W inlet temperature (C5000C)                                            7200 non-null   float64\n",
      " 49  PT001 Stage 3 discharge pressure (C7300)                                        7200 non-null   float64\n",
      " 50  PT004 Oil supply pressure (C7300)                                               7200 non-null   float64\n",
      " 51  CT001 Motor current (C7300)                                                     7200 non-null   float64\n",
      " 52  TE006 Oil supply temperature (C7300)                                            7200 non-null   float64\n",
      " 53  TE005 Oil reservoir temperature (C7300)                                         7200 non-null   float64\n",
      " 54  PT005 #2 inlet pressure (C7300)                                                 7200 non-null   float64\n",
      " 55  PT003 C/W inlet pressure (C7300)                                                7200 non-null   float64\n",
      " 56  FIC815 - PV Cooling water flow                                                  7200 non-null   float64\n",
      " 57  FIC600A - PV Product oxygen flow                                                7200 non-null   float64\n",
      " 58  FIC701 - PV Gaseous nitrogen flow to cooling tower flow                         7200 non-null   float64\n",
      " 59  FIC772 -PV Waste nitrogen flow to cooling tower flow                            7200 non-null   float64\n",
      " 60  SIC401A - PV Air turbine/booster T/C2000A speed                                 7200 non-null   float64\n",
      " 61  SIC401B - PV Air turbine/booster T/C2000B speed                                 7200 non-null   float64\n",
      " 62  HY582B Air booster C2000A by-pass valve HV582B: solenoid HY582B OFF/ON command  7200 non-null   float64\n",
      "dtypes: float64(62), object(1)\n",
      "memory usage: 3.5+ MB\n",
      "None\n"
     ]
    },
    {
     "name": "stderr",
     "output_type": "stream",
     "text": [
      "C:\\Users\\h.alavi.CMIC\\AppData\\Local\\Temp\\ipykernel_120\\3191346961.py:6: FutureWarning: DataFrame.fillna with 'method' is deprecated and will raise in a future version. Use obj.ffill() or obj.bfill() instead.\n",
      "  df.fillna(method='ffill',inplace=True)\n"
     ]
    }
   ],
   "source": [
    "df = pd.read_csv(f\"{working_dir}/data/Oxygen_Plant_24Days.txt\", delimiter= '\\t', index_col=False )\n",
    "print(df.shape)\n",
    "df.columns = df.iloc[0,:].to_list()\n",
    "df.drop(index= [0,1],inplace=True)\n",
    "df.replace({\"1.#INF\":None},inplace=True)\n",
    "df.fillna(method='ffill',inplace=True)\n",
    "df.dropna(inplace=True)\n",
    "df['time']=df['time'].str[:-7]\n",
    "df.reset_index(inplace=True,drop=True)\n",
    "for item in [col_name for col_name in df.columns if col_name != \"time\"]:\n",
    "    df[item] = df[item].astype(float)\n",
    "print(df.shape)\n",
    "print(df.info())\n",
    "#df.to_excel(f\"{working_dir}/temp/temp.xlsx\",index=False)"
   ]
  }
 ],
 "metadata": {
  "kernelspec": {
   "display_name": "Python 3",
   "language": "python",
   "name": "python3"
  },
  "language_info": {
   "codemirror_mode": {
    "name": "ipython",
    "version": 3
   },
   "file_extension": ".py",
   "mimetype": "text/x-python",
   "name": "python",
   "nbconvert_exporter": "python",
   "pygments_lexer": "ipython3",
   "version": "3.12.4"
  }
 },
 "nbformat": 4,
 "nbformat_minor": 2
}
